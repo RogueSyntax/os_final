{
  "nbformat": 4,
  "nbformat_minor": 0,
  "metadata": {
    "colab": {
      "provenance": []
    },
    "kernelspec": {
      "name": "python3",
      "display_name": "Python 3"
    },
    "language_info": {
      "name": "python"
    }
  },
  "cells": [
    {
      "cell_type": "code",
      "execution_count": 1,
      "metadata": {
        "colab": {
          "base_uri": "https://localhost:8080/"
        },
        "id": "jzX9QA-uYvO2",
        "outputId": "93d91f80-9c08-4447-f4c5-9a6fc3574a16"
      },
      "outputs": [
        {
          "output_type": "stream",
          "name": "stdout",
          "text": [
            "นายศุภชัย รอดฤทธิ์ รหัส 6304101368 กลุ่มเรียนที่ 1\n"
          ]
        }
      ],
      "source": [
        "print(\"นายศุภชัย รอดฤทธิ์ รหัส 6304101368 กลุ่มเรียนที่ 1\")"
      ]
    },
    {
      "cell_type": "markdown",
      "source": [],
      "metadata": {
        "id": "PrNNRM4wYzOF"
      }
    }
  ]
}